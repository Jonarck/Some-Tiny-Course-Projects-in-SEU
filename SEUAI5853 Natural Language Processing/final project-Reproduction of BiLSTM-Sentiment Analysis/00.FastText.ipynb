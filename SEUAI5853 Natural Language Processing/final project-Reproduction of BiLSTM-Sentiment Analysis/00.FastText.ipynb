{
 "cells": [
  {
   "cell_type": "markdown",
   "metadata": {},
   "source": [
    "### FastText词向量\n",
    "注：该任务语料库较小，用fastText效果比传统word2vec要好    "
   ]
  },
  {
   "cell_type": "markdown",
   "metadata": {},
   "source": [
    "#### 功能函数预定义"
   ]
  },
  {
   "cell_type": "code",
   "execution_count": null,
   "metadata": {},
   "outputs": [],
   "source": [
    "import jieba\n",
    "import re\n",
    "\n",
    "\n",
    "def tokenize(text):\n",
    "    \"\"\"\n",
    "    带有语料清洗功能的分词函数, 包含数据预处理, 可以根据自己的需求重载\n",
    "    \"\"\"\n",
    "    text = re.sub(\"\\{%.+?%\\}\", \" \", text)           # 去除 {%xxx%} (地理定位, 微博话题等)\n",
    "    text = re.sub(\"@.+?( |$)\", \" \", text)           # 去除 @xxx (用户名)\n",
    "    text = re.sub(\"【.+?】\", \" \", text)              # 去除 【xx】 (里面的内容通常都不是用户自己写的)\n",
    "    icons = re.findall(\"\\[.+?\\]\", text)             # 提取出所有表情图标\n",
    "    text = re.sub(\"\\[.+?\\]\", \"IconMark\", text)      # 将文本中的图标替换为`IconMark`\n",
    "\n",
    "    tokens = []\n",
    "    for k, w in enumerate(jieba.lcut(text)):\n",
    "        w = w.strip()\n",
    "        if \"IconMark\" in w:                         # 将IconMark替换为原图标\n",
    "            for i in range(w.count(\"IconMark\")):\n",
    "                tokens.append(icons.pop(0))\n",
    "        elif w and w != '\\u200b' and w.isalpha():   # 只保留有效文本\n",
    "                tokens.append(w)\n",
    "    return tokens\n",
    "\n",
    "\n",
    "def load_curpus(path):\n",
    "    \"\"\"\n",
    "    加载语料库\n",
    "    \"\"\"\n",
    "    data = []\n",
    "    with open(path, \"r\", encoding=\"utf8\") as f:\n",
    "        for line in f:\n",
    "            [_, seniment, content] = line.split(\",\", 2)\n",
    "            content = tokenize(content)             # 分词\n",
    "            data.append((content, int(seniment)))\n",
    "    return data"
   ]
  },
  {
   "cell_type": "markdown",
   "metadata": {},
   "source": [
    "#### 对语料库进行清洗和分词"
   ]
  },
  {
   "cell_type": "code",
   "execution_count": 2,
   "metadata": {},
   "outputs": [
    {
     "name": "stderr",
     "output_type": "stream",
     "text": [
      "Building prefix dict from the default dictionary ...\n",
      "Loading model from cache C:\\Users\\GHOSTA~1\\AppData\\Local\\Temp\\jieba.cache\n",
      "Loading model cost 0.569 seconds.\n",
      "Prefix dict has been built successfully.\n"
     ]
    }
   ],
   "source": [
    "import pandas as pd\n",
    "\n",
    "data = load_curpus(\"weibo2018/train.txt\") + load_curpus(\"weibo2018/test.txt\")\n",
    "df = pd.DataFrame(data, columns=[\"content\", \"sentiment\"])"
   ]
  },
  {
   "cell_type": "code",
   "execution_count": 3,
   "metadata": {},
   "outputs": [
    {
     "data": {
      "text/html": [
       "<div>\n",
       "<style scoped>\n",
       "    .dataframe tbody tr th:only-of-type {\n",
       "        vertical-align: middle;\n",
       "    }\n",
       "\n",
       "    .dataframe tbody tr th {\n",
       "        vertical-align: top;\n",
       "    }\n",
       "\n",
       "    .dataframe thead th {\n",
       "        text-align: right;\n",
       "    }\n",
       "</style>\n",
       "<table border=\"1\" class=\"dataframe\">\n",
       "  <thead>\n",
       "    <tr style=\"text-align: right;\">\n",
       "      <th></th>\n",
       "      <th>content</th>\n",
       "      <th>sentiment</th>\n",
       "    </tr>\n",
       "  </thead>\n",
       "  <tbody>\n",
       "    <tr>\n",
       "      <th>0</th>\n",
       "      <td>[书中, 自有, 黄金屋, 书中, 自有, 颜如玉, 沿着, 岁月, 的, 长河, 跋涉, ...</td>\n",
       "      <td>1</td>\n",
       "    </tr>\n",
       "    <tr>\n",
       "      <th>1</th>\n",
       "      <td>[这是, 英超, 被, 黑, 的, 最惨, 的, 一次, [二哈], [二哈], 十几年来,...</td>\n",
       "      <td>0</td>\n",
       "    </tr>\n",
       "    <tr>\n",
       "      <th>2</th>\n",
       "      <td>[中国, 远洋, 海运, 集团, 副总经理, 俞曾, 港, 月, 日, 在, 上, 表示, ...</td>\n",
       "      <td>1</td>\n",
       "    </tr>\n",
       "    <tr>\n",
       "      <th>3</th>\n",
       "      <td>[看, 流星花园, 其实, 也, 还好, 啦, 现在, 的, 观念, 以及, 时尚, 眼光,...</td>\n",
       "      <td>1</td>\n",
       "    </tr>\n",
       "    <tr>\n",
       "      <th>4</th>\n",
       "      <td>[汉武帝, 的, 罪己, 诏, 的, 真实性, 尽管, 存在, 着, 争议, 然而, 轮台,...</td>\n",
       "      <td>1</td>\n",
       "    </tr>\n",
       "  </tbody>\n",
       "</table>\n",
       "</div>"
      ],
      "text/plain": [
       "                                             content  sentiment\n",
       "0  [书中, 自有, 黄金屋, 书中, 自有, 颜如玉, 沿着, 岁月, 的, 长河, 跋涉, ...          1\n",
       "1  [这是, 英超, 被, 黑, 的, 最惨, 的, 一次, [二哈], [二哈], 十几年来,...          0\n",
       "2  [中国, 远洋, 海运, 集团, 副总经理, 俞曾, 港, 月, 日, 在, 上, 表示, ...          1\n",
       "3  [看, 流星花园, 其实, 也, 还好, 啦, 现在, 的, 观念, 以及, 时尚, 眼光,...          1\n",
       "4  [汉武帝, 的, 罪己, 诏, 的, 真实性, 尽管, 存在, 着, 争议, 然而, 轮台,...          1"
      ]
     },
     "execution_count": 3,
     "metadata": {},
     "output_type": "execute_result"
    }
   ],
   "source": [
    "df.head()"
   ]
  },
  {
   "cell_type": "markdown",
   "metadata": {},
   "source": [
    "#### 训练词向量"
   ]
  },
  {
   "cell_type": "code",
   "execution_count": 8,
   "metadata": {},
   "outputs": [],
   "source": [
    "from gensim.models import FastText\n",
    "model = FastText(df[\"content\"], \n",
    "                 vector_size=100,\n",
    "                 window=5, \n",
    "                 min_count=3, # 只保留出现次数大于3的词语\n",
    "                 epochs=1000,  # 1000次训练\n",
    "                 min_n=2,     # 默认为3,因为文本是中文这里改为2\n",
    "                 max_n=4,     # 默认为6,因为文本是中文这里改为5\n",
    "                 word_ngrams=1)"
   ]
  },
  {
   "cell_type": "markdown",
   "metadata": {},
   "source": [
    "#### 保存模型"
   ]
  },
  {
   "cell_type": "code",
   "execution_count": null,
   "metadata": {
    "collapsed": true
   },
   "outputs": [],
   "source": [
    "model.save(\"model/model_100.txt\")"
   ]
  }
 ],
 "metadata": {
  "kernelspec": {
   "display_name": "Python 3",
   "language": "python",
   "name": "python3"
  },
  "language_info": {
   "codemirror_mode": {
    "name": "ipython",
    "version": 3
   },
   "file_extension": ".py",
   "mimetype": "text/x-python",
   "name": "python",
   "nbconvert_exporter": "python",
   "pygments_lexer": "ipython3",
   "version": "3.7.5"
  }
 },
 "nbformat": 4,
 "nbformat_minor": 2
}
