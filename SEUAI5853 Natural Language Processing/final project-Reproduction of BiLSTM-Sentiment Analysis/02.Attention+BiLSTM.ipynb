{
 "cells": [
  {
   "cell_type": "markdown",
   "metadata": {},
   "source": [
    "# BiLSTM + Attention"
   ]
  },
  {
   "cell_type": "markdown",
   "metadata": {},
   "source": [
    "## 一.预处理"
   ]
  },
  {
   "cell_type": "markdown",
   "metadata": {},
   "source": [
    "### 1.分词操作定义"
   ]
  },
  {
   "cell_type": "code",
   "execution_count": 1,
   "metadata": {},
   "outputs": [],
   "source": [
    "import jieba\n",
    "import re\n",
    "import numpy as np"
   ]
  },
  {
   "cell_type": "code",
   "execution_count": 2,
   "metadata": {},
   "outputs": [],
   "source": [
    "\n",
    "def tokenize(text):\n",
    "    \"\"\"\n",
    "    带有语料清洗功能的分词函数, 包含数据预处理, 可以根据自己的需求重载\n",
    "    \"\"\"\n",
    "    text = re.sub(\"\\{%.+?%\\}\", \" \", text)           # 去除 {%xxx%} (地理定位, 微博话题等)\n",
    "    text = re.sub(\"@.+?( |$)\", \" \", text)           # 去除 @xxx (用户名)\n",
    "    text = re.sub(\"【.+?】\", \" \", text)              # 去除 【xx】 (里面的内容通常都不是用户自己写的)\n",
    "    icons = re.findall(\"\\[.+?\\]\", text)             # 提取出所有表情图标\n",
    "    text = re.sub(\"\\[.+?\\]\", \"IconMark\", text)      # 将文本中的图标替换为`IconMark`\n",
    "\n",
    "    tokens = []\n",
    "    for k, w in enumerate(jieba.lcut(text)):\n",
    "        w = w.strip()\n",
    "        if \"IconMark\" in w:                         # 将IconMark替换为原图标\n",
    "            for i in range(w.count(\"IconMark\")):\n",
    "                tokens.append(icons.pop(0))\n",
    "        elif w and w != '\\u200b' and w.isalpha():   # 只保留有效文本\n",
    "                tokens.append(w)\n",
    "    return tokens\n",
    "\n",
    "\n",
    "def load_curpus(path):\n",
    "    \"\"\"\n",
    "    加载语料库\n",
    "    \"\"\"\n",
    "    data = []\n",
    "    with open(path, \"r\", encoding=\"utf8\") as f:\n",
    "        for line in f:\n",
    "            [_, seniment, content] = line.split(\",\", 2)\n",
    "            content = tokenize(content)             # 分词\n",
    "            data.append((content, int(seniment)))\n",
    "    return data"
   ]
  },
  {
   "cell_type": "markdown",
   "metadata": {},
   "source": [
    "### 2.数据加载"
   ]
  },
  {
   "cell_type": "code",
   "execution_count": 3,
   "metadata": {},
   "outputs": [
    {
     "name": "stderr",
     "output_type": "stream",
     "text": [
      "Building prefix dict from the default dictionary ...\n",
      "Loading model from cache C:\\Users\\GHOSTA~1\\AppData\\Local\\Temp\\jieba.cache\n",
      "Loading model cost 0.564 seconds.\n",
      "Prefix dict has been built successfully.\n"
     ]
    }
   ],
   "source": [
    "import pandas as pd\n",
    "train_data = load_curpus(\"weibo2018/train.txt\")\n",
    "test_data = load_curpus(\"weibo2018/test.txt\")\n",
    "train_df = pd.DataFrame(train_data, columns=[\"content\", \"sentiment\"])\n",
    "test_df = pd.DataFrame(test_data, columns=[\"content\", \"sentiment\"])"
   ]
  },
  {
   "cell_type": "markdown",
   "metadata": {},
   "source": [
    "#### 加载停用词"
   ]
  },
  {
   "cell_type": "code",
   "execution_count": 4,
   "metadata": {},
   "outputs": [],
   "source": [
    "stopwords = []\n",
    "with open(\"stopwords.txt\", \"r\", encoding=\"utf8\") as f:\n",
    "    for w in f:\n",
    "        stopwords.append(w.strip())"
   ]
  },
  {
   "cell_type": "markdown",
   "metadata": {},
   "source": [
    "#### 加载之前训练好的FastText模型\n",
    "注：见FastText.ipynb"
   ]
  },
  {
   "cell_type": "code",
   "execution_count": 5,
   "metadata": {},
   "outputs": [],
   "source": [
    "from gensim.models import FastText\n",
    "model = FastText.load(\"model/model_100.txt\")"
   ]
  },
  {
   "cell_type": "markdown",
   "metadata": {},
   "source": [
    "## 二.词向量生成"
   ]
  },
  {
   "cell_type": "code",
   "execution_count": 6,
   "metadata": {},
   "outputs": [],
   "source": [
    "## 为保证输入神经网络的向量长度一致, 要对长度不足max_length的句子用零向量补齐, 对长度超过max_length的句子进行截断\n",
    "max_length = 128"
   ]
  },
  {
   "cell_type": "code",
   "execution_count": 7,
   "metadata": {},
   "outputs": [],
   "source": [
    "X_train, train_length, y_train = [], [], []\n",
    "for content, sentiment in train_data:\n",
    "    X, y = [], sentiment\n",
    "    for w in content[:max_length]:\n",
    "        if w in model.wv:\n",
    "            X.append(np.expand_dims(model.wv[w], 0))\n",
    "    if X:\n",
    "        length = len(X)\n",
    "        X = X + [np.zeros_like(X[0])] * (max_length - length)\n",
    "        X = np.concatenate(X)\n",
    "        X = np.expand_dims(X, 0)\n",
    "        X_train.append(X)\n",
    "        train_length.append(length)\n",
    "        y_train.append(y)"
   ]
  },
  {
   "cell_type": "code",
   "execution_count": 8,
   "metadata": {},
   "outputs": [],
   "source": [
    "X_test, test_length, y_test = [], [], []\n",
    "for content, sentiment in test_data:\n",
    "    X, y = [], sentiment\n",
    "    for w in content[:max_length]:\n",
    "        if w in model.wv:\n",
    "            X.append(np.expand_dims(model.wv[w], 0))\n",
    "    if X:\n",
    "        length = len(X)\n",
    "        X = X + [np.zeros_like(X[0])] * (max_length - length)\n",
    "        X = np.concatenate(X)\n",
    "        X = np.expand_dims(X, 0)\n",
    "        X_test.append(X)\n",
    "        test_length.append(length)\n",
    "        y_test.append(y)"
   ]
  },
  {
   "cell_type": "markdown",
   "metadata": {},
   "source": [
    "## 三.Attention+BiLSTM\n"
   ]
  },
  {
   "cell_type": "markdown",
   "metadata": {},
   "source": [
    "### 1.Attention+BiLSTM网络搭建"
   ]
  },
  {
   "cell_type": "code",
   "execution_count": 9,
   "metadata": {
    "scrolled": true
   },
   "outputs": [
    {
     "name": "stdout",
     "output_type": "stream",
     "text": [
      "WARNING:tensorflow:From <ipython-input-9-91d6606c7171>:15: LSTMCell.__init__ (from tensorflow.python.ops.rnn_cell_impl) is deprecated and will be removed in a future version.\n",
      "Instructions for updating:\n",
      "This class is equivalent as tf.keras.layers.LSTMCell, and will be replaced by that in Tensorflow 2.0.\n",
      "WARNING:tensorflow:From <ipython-input-9-91d6606c7171>:35: bidirectional_dynamic_rnn (from tensorflow.python.ops.rnn) is deprecated and will be removed in a future version.\n",
      "Instructions for updating:\n",
      "Please use `keras.layers.Bidirectional(keras.layers.RNN(cell))`, which is equivalent to this API\n",
      "WARNING:tensorflow:From d:\\python\\lib\\site-packages\\tensorflow_core\\python\\ops\\rnn.py:464: dynamic_rnn (from tensorflow.python.ops.rnn) is deprecated and will be removed in a future version.\n",
      "Instructions for updating:\n",
      "Please use `keras.layers.RNN(cell)`, which is equivalent to this API\n",
      "WARNING:tensorflow:From d:\\python\\lib\\site-packages\\tensorflow_core\\python\\ops\\rnn_cell_impl.py:958: Layer.add_variable (from tensorflow.python.keras.engine.base_layer) is deprecated and will be removed in a future version.\n",
      "Instructions for updating:\n",
      "Please use `layer.add_weight` method instead.\n",
      "WARNING:tensorflow:From d:\\python\\lib\\site-packages\\tensorflow_core\\python\\ops\\rnn_cell_impl.py:962: calling Zeros.__init__ (from tensorflow.python.ops.init_ops) with dtype is deprecated and will be removed in a future version.\n",
      "Instructions for updating:\n",
      "Call initializer instance with the dtype argument instead of passing it to the constructor\n",
      "WARNING:tensorflow:From d:\\python\\lib\\site-packages\\tensorflow_core\\python\\ops\\rnn.py:244: where (from tensorflow.python.ops.array_ops) is deprecated and will be removed in a future version.\n",
      "Instructions for updating:\n",
      "Use tf.where in 2.0, which has the same broadcast rule as np.where\n"
     ]
    }
   ],
   "source": [
    "## 由于tensorflow的Attention是基于Seq2Seq结构的，我这里也采用了这种结构，不过并没有使用“解码器”\n",
    "import tensorflow as tf\n",
    "from tensorflow.contrib import rnn, seq2seq\n",
    "batch_size = 512\n",
    "lr = 1e-3\n",
    "hidden_size = 100\n",
    "\n",
    "X = tf.placeholder(shape=(batch_size, max_length, 100), dtype=tf.float32, name=\"X\")\n",
    "L = tf.placeholder(shape=(batch_size), dtype=np.int32, name=\"L\")\n",
    "y = tf.placeholder(shape=(batch_size, 1), dtype=np.float32, name=\"y\")\n",
    "dropout = tf.placeholder(shape=(), dtype=np.float32, name=\"dropout\")\n",
    "\n",
    "with tf.variable_scope(\"lstm\", reuse=tf.AUTO_REUSE):\n",
    "    def lstm_cell(hidden_size, cell_id=0):\n",
    "        # LSTM细胞生成器\n",
    "        cell = rnn.LSTMCell(hidden_size, reuse=tf.AUTO_REUSE, name='cell%d' % cell_id)\n",
    "        cell = rnn.DropoutWrapper(cell, output_keep_prob=dropout)\n",
    "        return cell\n",
    "    \n",
    "    context = tf.get_variable(\"context\", shape=(1, hidden_size))\n",
    "    context = tf.tile(context, [batch_size, 1])\n",
    "    \n",
    "    # BiLSTM部分\n",
    "    fw_cell = lstm_cell(hidden_size, 0)\n",
    "    bw_cell = lstm_cell(hidden_size, 1)\n",
    "    fw_zero = fw_cell.zero_state(batch_size, tf.float32)\n",
    "    bw_zero = fw_cell.zero_state(batch_size, tf.float32)\n",
    "    \n",
    "    # Seq2Seq版的dynamic_rnn\n",
    "    encoder_output, encoder_states = tf.nn.bidirectional_dynamic_rnn(cell_fw=fw_cell,\n",
    "                                                         cell_bw=bw_cell,\n",
    "                                                         inputs=X,\n",
    "                                                         sequence_length=L,\n",
    "                                                         initial_state_fw=fw_zero,\n",
    "                                                         initial_state_bw=bw_zero,\n",
    "                                                         dtype=tf.float32)\n",
    "\n",
    "   \n",
    "    # Attention模块\n",
    "    attention_context = tf.concat(encoder_output, axis=2)\n",
    "    attention_mech = seq2seq.BahdanauAttention(hidden_size * 2,\n",
    "                                                 memory=attention_context,\n",
    "                                                 memory_sequence_length=L,\n",
    "                                                 name=\"AttentionMechanism\")\n",
    "    attention_cell = seq2seq.AttentionWrapper(cell=lstm_cell(hidden_size, 2),\n",
    "                                                attention_mechanism=attention_mech,\n",
    "                                                attention_layer_size=hidden_size,\n",
    "                                                alignment_history=True,\n",
    "                                                output_attention=True,\n",
    "                                                name=\"AttentionCell\")\n",
    "    \n",
    "    # Attention加权得到的context向量\n",
    "    attention_zero = attention_cell.zero_state(batch_size, tf.float32)\n",
    "    attention_output, attention_state = attention_cell.call(context, attention_zero)\n",
    "    aligments = attention_state[3]\n",
    "    \n",
    "    \n",
    "    \n",
    "    # 用context向量直接用MLP做二分类\n",
    "    W1 = tf.get_variable(\"W1\", shape=(hidden_size, 50))\n",
    "    b1 = tf.get_variable(\"b1\", shape=(50,))\n",
    "    W2 = tf.get_variable(\"W2\", shape=(50, 1))\n",
    "    b2 = tf.get_variable(\"b2\", shape=(1,))\n",
    "    fcn1 = tf.nn.xw_plus_b(attention_output, W1, b1)\n",
    "    logists = tf.nn.xw_plus_b(fcn1, W2, b2)\n",
    "    loss = tf.reduce_mean(tf.nn.sigmoid_cross_entropy_with_logits(logits=logists, labels=y))     # 交叉熵\n",
    "    op = tf.train.AdamOptimizer(lr).minimize(loss)"
   ]
  },
  {
   "cell_type": "markdown",
   "metadata": {},
   "source": [
    "### 2.LSTM模型训练"
   ]
  },
  {
   "cell_type": "code",
   "execution_count": 10,
   "metadata": {},
   "outputs": [],
   "source": [
    "gpu_options = tf.GPUOptions(per_process_gpu_memory_fraction=0.6)\n",
    "config = tf.ConfigProto(gpu_options=gpu_options)\n",
    "sess = tf.Session(config=config)"
   ]
  },
  {
   "cell_type": "code",
   "execution_count": 11,
   "metadata": {
    "scrolled": false
   },
   "outputs": [
    {
     "name": "stdout",
     "output_type": "stream",
     "text": [
      "step: 0  loss: 1.0102375\n",
      "step: 100  loss: 0.3220744\n",
      "WARNING:tensorflow:From d:\\python\\lib\\site-packages\\tensorflow_core\\python\\training\\saver.py:963: remove_checkpoint (from tensorflow.python.training.checkpoint_management) is deprecated and will be removed in a future version.\n",
      "Instructions for updating:\n",
      "Use standard file APIs to delete files with this prefix.\n",
      "step: 200  loss: 0.15343997\n",
      "step: 300  loss: 0.064337425\n",
      "step: 400  loss: 0.066639856\n",
      "step: 500  loss: 0.004803976\n",
      "step: 600  loss: 0.005848105\n",
      "step: 700  loss: 0.0017513898\n",
      "step: 800  loss: 0.00091386255\n",
      "step: 900  loss: 0.0065245815\n",
      "step: 1000  loss: 0.0010330456\n"
     ]
    }
   ],
   "source": [
    "total_step = 1001\n",
    "step = 0\n",
    "cursor = 0\n",
    "sess.run(tf.global_variables_initializer())\n",
    "saver = tf.train.Saver(max_to_keep=1)\n",
    "while step < total_step:\n",
    "    _X, _L, _y = X_train[cursor: cursor + batch_size], train_length[cursor: cursor + batch_size], y_train[cursor: cursor + batch_size]\n",
    "    cursor += batch_size\n",
    "    if len(_X) < batch_size:\n",
    "        cursor = batch_size - len(_X)\n",
    "        _X += X_train[: cursor]\n",
    "        _L += train_length[: cursor]\n",
    "        _y += y_train[: cursor]\n",
    "    _X = np.concatenate(_X)\n",
    "    _L = np.reshape(np.array(_L, dtype=np.int32), (-1))\n",
    "    _y = np.reshape(np.array(_y, dtype=np.float32), (batch_size, 1))\n",
    "    _, l = sess.run([op, loss], feed_dict={X: _X, L:_L, y: _y, dropout:.75})\n",
    "    if step % 100 == 0:\n",
    "        print(\"step:\", step, \" loss:\", l)\n",
    "        saver.save(sess,'model/attention/model', global_step=step)\n",
    "    step += 1"
   ]
  },
  {
   "cell_type": "markdown",
   "metadata": {},
   "source": [
    "### 3.效果测试"
   ]
  },
  {
   "cell_type": "markdown",
   "metadata": {},
   "source": [
    "#### 测试集测试"
   ]
  },
  {
   "cell_type": "code",
   "execution_count": 12,
   "metadata": {},
   "outputs": [],
   "source": [
    "_X = np.concatenate(X_test + [np.zeros_like(X_test[0])] * (batch_size - len(X_test)))\n",
    "_L = np.array(test_length + [1] * (batch_size - len(test_length)))"
   ]
  },
  {
   "cell_type": "code",
   "execution_count": 13,
   "metadata": {},
   "outputs": [],
   "source": [
    "result = sess.run(tf.nn.sigmoid(logists), feed_dict={X: _X, L: _L, dropout:1.})\n",
    "prediction = []\n",
    "for i in result[:len(X_test)]:\n",
    "    if i > 0.5:\n",
    "        prediction.append(1)\n",
    "    else:\n",
    "        prediction.append(0)"
   ]
  },
  {
   "cell_type": "code",
   "execution_count": 17,
   "metadata": {},
   "outputs": [
    {
     "name": "stdout",
     "output_type": "stream",
     "text": [
      "              precision    recall  f1-score   support\n",
      "\n",
      "           0       0.77      0.81      0.79       155\n",
      "           1       0.91      0.89      0.90       345\n",
      "\n",
      "    accuracy                           0.86       500\n",
      "   macro avg       0.84      0.85      0.84       500\n",
      "weighted avg       0.87      0.86      0.86       500\n",
      "\n",
      "准确率: 0.864\n"
     ]
    },
    {
     "data": {
      "image/png": "[encoded data removed]",
      "text/plain": [
       "<Figure size 432x288 with 1 Axes>"
      ]
     },
     "metadata": {
      "needs_background": "light"
     },
     "output_type": "display_data"
    }
   ],
   "source": [
    "from sklearn import metrics\n",
    "import matplotlib.pyplot as plt\n",
    "print(metrics.classification_report(y_test, prediction))\n",
    "print(\"准确率:\", metrics.accuracy_score(y_test, prediction))\n",
    "precision,recall,threshold = metrics.precision_recall_curve(y_test, prediction)\n",
    "plt.plot(recall,precision)\n",
    "plt.xlabel('recall')\n",
    "plt.ylabel('precision')\n",
    "plt.show()"
   ]
  },
  {
   "cell_type": "code",
   "execution_count": 19,
   "metadata": {},
   "outputs": [
    {
     "name": "stdout",
     "output_type": "stream",
     "text": [
      "[1.         0.88985507 0.        ] [0.69       0.91097923 1.        ]\n"
     ]
    }
   ],
   "source": [
    "print(recall, precision)"
   ]
  },
  {
   "cell_type": "markdown",
   "metadata": {},
   "source": [
    "#### LSTM与Attention+BiLSTM效果对比"
   ]
  },
  {
   "cell_type": "code",
   "execution_count": 22,
   "metadata": {},
   "outputs": [
    {
     "data": {
      "image/png": "[encoded data removed]",
      "text/plain": [
       "<Figure size 432x288 with 1 Axes>"
      ]
     },
     "metadata": {
      "needs_background": "light"
     },
     "output_type": "display_data"
    }
   ],
   "source": [
    "recall_lstm = [1, 0.87536232, 0]\n",
    "precision_lstm = [0.69, 0.89085546, 1]\n",
    "recall_lstm = np.array(recall_lstm)\n",
    "precision_lstm = np.array(precision_lstm)\n",
    "\n",
    "plt.grid()\n",
    "plt.plot(recall_lstm, precision_lstm, label='LSTM')\n",
    "plt.plot(recall, precision, label='Attention+BiLSTM')\n",
    "\n",
    "plt.xlabel('recall')\n",
    "plt.ylabel('precision')\n",
    "\n",
    "plt.legend()\n",
    "plt.show()"
   ]
  },
  {
   "cell_type": "markdown",
   "metadata": {},
   "source": [
    "#### 实时输入测试"
   ]
  },
  {
   "cell_type": "code",
   "execution_count": 15,
   "metadata": {},
   "outputs": [],
   "source": [
    "def processing(text):\n",
    "\n",
    "    # 数据清洗部分\n",
    "    text = re.sub(\"\\{%.+?%\\}\", \" \", text)           # 去除 {%xxx%} (地理定位, 微博话题等)\n",
    "    text = re.sub(\"@.+?( |$)\", \" \", text)           # 去除 @xxx (用户名)\n",
    "    text = re.sub(\"【.+?】\", \" \", text)              # 去除 【xx】 (里面的内容通常都不是用户自己写的)\n",
    "    text = re.sub(\"\\u200b\", \" \", text)              # '\\u200b'是这个数据集中的一个bad case, 不用特别在意\n",
    "    # 分词\n",
    "    words = [w for w in jieba.lcut(text) if w.isalpha()]\n",
    "    # 对否定词`不`做特殊处理: 与其后面的词进行拼接\n",
    "    while \"不\" in words:\n",
    "        index = words.index(\"不\")\n",
    "        if index == len(words) - 1:\n",
    "            break\n",
    "        words[index: index+2] = [\"\".join(words[index: index+2])]  # 列表切片赋值的酷炫写法\n",
    "    # 用空格拼接成字符串\n",
    "    result = \" \".join(words)\n",
    "    return result\n"
   ]
  },
  {
   "cell_type": "code",
   "execution_count": 63,
   "metadata": {},
   "outputs": [
    {
     "name": "stdout",
     "output_type": "stream",
     "text": [
      "BiLSTM分析结果：\n",
      "[[1.0000000e+00]\n",
      " [9.9921453e-01]\n",
      " [2.1815300e-05]]\n",
      "[1, 1, 0]\n"
     ]
    }
   ],
   "source": [
    "\n",
    "strs = [\"我永远喜欢东南大学\",  \n",
    "        \"南京的冬天美得不行\", \n",
    "        \"某些建筑物丑得不行\"]\n",
    "\n",
    "data, data_length = [], []\n",
    "for s in strs:\n",
    "    vectors = []\n",
    "    for w in processing(s).split(\" \")[:max_length]:\n",
    "        if w in model.wv:\n",
    "            vectors.append(np.expand_dims(model.wv[w], 0))   # 将每个词替换为对应的词向量\n",
    "    if vectors:\n",
    "        length = len(vectors)\n",
    "        vectors = vectors + [np.zeros_like(vectors[0])] * (max_length - length)\n",
    "        vectors = np.concatenate(vectors)\n",
    "        vectors = np.expand_dims(vectors, 0)\n",
    "        data.append(vectors)\n",
    "        data_length.append(length)\n",
    "\n",
    "    \n",
    "_data = np.concatenate(data + [np.zeros_like(data[0])] * (batch_size - len(data)))\n",
    "_data_L = np.array(data_length + [1] * (batch_size - len(data_length)))    \n",
    "\n",
    "\n",
    "result_data = sess.run(tf.nn.sigmoid(logists), feed_dict={X: _data, L: _data_L, dropout:1.})\n",
    "prediction_data = []\n",
    "for i in result_data[:len(data)]:\n",
    "    if i > 0.5:\n",
    "        prediction_data.append(1)\n",
    "    else:\n",
    "        prediction_data.append(0)\n",
    "        \n",
    "print('BiLSTM分析结果：')\n",
    "print(result_data[:len(data)])\n",
    "print(prediction_data)\n"
   ]
  },
  {
   "cell_type": "code",
   "execution_count": 102,
   "metadata": {},
   "outputs": [
    {
     "name": "stdout",
     "output_type": "stream",
     "text": [
      "--------------------------------------------\n",
      "|              BiLSTM+Attention            |\n",
      "--------------------------------------------\n",
      "|     Input Text        |    Predicition   |\n",
      "--------------------------------------------\n",
      "| \"我永远喜欢东南大学\"  |   1.0000000000   |\n",
      "| \"南京的冬天美得不行\"  |   0.9992145300   |\n",
      "| \"某些建筑物丑得不行\"  |   0.0000218153   |\n",
      "--------------------------------------------\n"
     ]
    }
   ],
   "source": [
    "print(\"-\"*44)\n",
    "print(\"|              BiLSTM+Attention            |\")\n",
    "print(\"-\"*44)\n",
    "print(\"|     Input Text        |    Predicition   |\")\n",
    "print(\"-\"*44)\n",
    "for i in range(3):\n",
    "    print(\"| \\\"{}\\\"  |   {:.10f}   |\".format(strs[i],result_data[:len(data)][i][0]))\n",
    "print(\"-\"*44)"
   ]
  }
 ],
 "metadata": {
  "kernelspec": {
   "display_name": "Python 3",
   "language": "python",
   "name": "python3"
  },
  "language_info": {
   "codemirror_mode": {
    "name": "ipython",
    "version": 3
   },
   "file_extension": ".py",
   "mimetype": "text/x-python",
   "name": "python",
   "nbconvert_exporter": "python",
   "pygments_lexer": "ipython3",
   "version": "3.7.5"
  }
 },
 "nbformat": 4,
 "nbformat_minor": 2
}
